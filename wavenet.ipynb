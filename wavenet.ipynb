{
 "cells": [
  {
   "cell_type": "code",
   "execution_count": 24,
   "id": "6ed84b86-1ca5-4600-9ba2-284cc68e59d3",
   "metadata": {},
   "outputs": [],
   "source": [
    "import torch\n",
    "import torch.nn.functional as F\n",
    "import matplotlib.pyplot as plt\n",
    "%matplotlib inline"
   ]
  },
  {
   "cell_type": "code",
   "execution_count": 25,
   "id": "24bd7e40-04c0-4146-86e7-37f79d2e79f3",
   "metadata": {},
   "outputs": [
    {
     "data": {
      "text/plain": [
       "['emma',\n",
       " 'olivia',\n",
       " 'ava',\n",
       " 'isabella',\n",
       " 'sophia',\n",
       " 'charlotte',\n",
       " 'mia',\n",
       " 'amelia',\n",
       " 'harper',\n",
       " 'evelyn']"
      ]
     },
     "execution_count": 25,
     "metadata": {},
     "output_type": "execute_result"
    }
   ],
   "source": [
    "# read all the names in the dataset\n",
    "words = open('names.txt',  'r').read().splitlines()\n",
    "words[:10]"
   ]
  },
  {
   "cell_type": "code",
   "execution_count": 26,
   "id": "3685ff1a-116d-4276-99a7-515bb134789d",
   "metadata": {},
   "outputs": [],
   "source": [
    "#building the vocabulary of characters and mapping them to integers\n",
    "chars = sorted(list(set(''.join(words))))\n",
    "stoi = {s:i+1 for i,s in enumerate(chars)}\n",
    "stoi['.'] = 0\n",
    "itos = {i:s for s,i in stoi.items()}"
   ]
  },
  {
   "cell_type": "code",
   "execution_count": 72,
   "id": "c42b06c7-76f2-4396-ba73-c88e844561d6",
   "metadata": {},
   "outputs": [],
   "source": [
    "#build datasets\n",
    "\n",
    "import random\n",
    "random.seed(42)\n",
    "random.shuffle(words)\n",
    "\n",
    "block_size = 8 # context length\n",
    "vocab_size = 27 # number of chars in our char vocabulary (total possible outputs)\n",
    "\n",
    "def build_dataset(words):\n",
    "    #dataset prep\n",
    "    X, Y = [], []  \n",
    "    \n",
    "    for w in words:\n",
    "        context = [0] * block_size\n",
    "        for ch in w + '.':\n",
    "            ix = stoi[ch]\n",
    "            X.append(context)\n",
    "            Y.append(ix)\n",
    "            context = context[1:] + [ix]  #crop and append\n",
    "    \n",
    "    X = torch.tensor(X)\n",
    "    Y = torch.tensor(Y)\n",
    "    return X, Y\n",
    "\n",
    "n1 = int(0.8*len(words))\n",
    "n2 = int(0.9*len(words))\n",
    "\n",
    "Xtr, Ytr = build_dataset(words[:n1])       #80%\n",
    "Xdev, Ydev = build_dataset(words[n1:n2])   #10%\n",
    "Xte, Yte = build_dataset(words[n2:])       #10%"
   ]
  },
  {
   "cell_type": "code",
   "execution_count": 103,
   "id": "fcc4c06a-9b9c-416e-b595-5eaa0286cd60",
   "metadata": {},
   "outputs": [],
   "source": [
    "class Linear:\n",
    "    def __init__(self, fan_in, fan_out, bias=True):\n",
    "        self.weight = torch.randn((fan_in, fan_out)) / fan_in ** 0.5 \n",
    "        self.bias = torch.randn(fan_out) if bias else None\n",
    "\n",
    "    def __call__(self, x):\n",
    "        self.out = x @ self.weight\n",
    "        if self.bias is not None:\n",
    "            self.out += self.bias\n",
    "        return self.out\n",
    "\n",
    "    def parameters(self):\n",
    "        return [self.weight] + ([] if self.bias is None else [self.bias])\n",
    "\n",
    "#----------------------------------------------------------------------------------\n",
    "\n",
    "class BatchNorm1d:\n",
    "    def __init__(self, dim, eps = 1e-5, momentum=0.1):\n",
    "        self.eps = eps\n",
    "        self.momentum = momentum\n",
    "        self.training = True\n",
    "        #parameters - trained with backprop\n",
    "        self.gamma = torch.ones(dim)\n",
    "        self.beta = torch.zeros(dim)\n",
    "        # bufers - not trained with backprop but on the side with momentum to counter the batch norm on single input inference\n",
    "        self.running_mean = torch.zeros(dim)\n",
    "        self.running_var = torch.ones(dim)\n",
    "\n",
    "    def __call__(self, x):\n",
    "        #calculate forward pass\n",
    "        if self.training:\n",
    "            if x.ndim == 2:\n",
    "                dim = 0\n",
    "            elif x.ndim == 3:\n",
    "                dim = (0,1)   # deviation from pytorch api of batchnorm 1d\n",
    "            xmean = x.mean(dim, keepdims=True)\n",
    "            xvar = x.var(dim, keepdims=True)\n",
    "        else:\n",
    "            xmean = self.running_mean\n",
    "            xvar = self.running_var\n",
    "\n",
    "        xhat = (x - xmean) / torch.sqrt(xvar+ self.eps) # normailise to unit variance\n",
    "        self.out = self.gamma * xhat + self.beta\n",
    "        #update the buffers\n",
    "        if self.training:\n",
    "            with torch.no_grad():\n",
    "                self.running_mean = (1 - self.momentum) * self.running_mean + self.momentum * xmean\n",
    "                self.running_var = (1 - self.momentum) * self.running_var + self.momentum * xvar\n",
    "        return self.out\n",
    "\n",
    "    def parameters(self):\n",
    "        return [self.gamma, self.beta]\n",
    "\n",
    "#----------------------------------------------------------------------------------\n",
    "\n",
    "class Tanh:\n",
    "    def __call__(self, x):\n",
    "        self.out = torch.tanh(x)\n",
    "        return self.out\n",
    "    def parameters(self):\n",
    "        return []\n",
    "\n",
    "#----------------------------------------------------------------------------------\n",
    "\n",
    "class Embedding:\n",
    "    def __init__(self, num_embeddings, embedding_dim):\n",
    "        self.weight = torch.randn((num_embeddings, embedding_dim))\n",
    "\n",
    "    def __call__(self, IX):\n",
    "        self.out = self.weight[IX]\n",
    "        return self.out\n",
    "\n",
    "    def parameters(self):\n",
    "        return [self.weight]\n",
    "\n",
    "#----------------------------------------------------------------------------------\n",
    "\n",
    "class FlattenConsecutive:\n",
    "    def __init__(self,n):\n",
    "        self.n = n\n",
    "    \n",
    "    def __call__(self, x):\n",
    "        B, T , C = x.shape\n",
    "        x = x.view(B, T // self.n, C * self.n)\n",
    "        if x.shape[1] == 1:\n",
    "            x = x.squeeze(1)\n",
    "        self.out = x\n",
    "        return self.out\n",
    "\n",
    "    def parameters(self):\n",
    "        return []\n",
    "\n",
    "#----------------------------------------------------------------------------------\n",
    "\n",
    "class Sequential:\n",
    "    def __init__(self, layers):\n",
    "        self.layers = layers\n",
    "\n",
    "    def __call__(self, x):\n",
    "        for layer in self.layers:\n",
    "            x = layer(x)\n",
    "        self.out = x\n",
    "        return self.out\n",
    "\n",
    "    def parameters(self):\n",
    "        # get params of all layers and stretch them out in a list\n",
    "        return [p for layer in self.layers for p in layer.parameters()]\n"
   ]
  },
  {
   "cell_type": "code",
   "execution_count": 93,
   "id": "82e741f1-5695-4610-8bd8-3b859c53c289",
   "metadata": {},
   "outputs": [
    {
     "name": "stdout",
     "output_type": "stream",
     "text": [
      "tensor([[[0.2426, 0.2421, 0.1212, 0.4667, 0.2890],\n",
      "         [0.1994, 0.7011, 0.3390, 0.3446, 0.1463],\n",
      "         [0.9329, 0.0946, 0.9430, 0.9449, 0.7383],\n",
      "         [0.4461, 0.2553, 0.3626, 0.4104, 0.8764]],\n",
      "\n",
      "        [[0.1668, 0.6314, 0.0032, 0.3051, 0.6897],\n",
      "         [0.9747, 0.1389, 0.3259, 0.1637, 0.0536],\n",
      "         [0.4721, 0.0195, 0.4694, 0.6308, 0.3432],\n",
      "         [0.2243, 0.8664, 0.7440, 0.4259, 0.9516]]])\n"
     ]
    },
    {
     "data": {
      "text/plain": [
       "torch.Size([2, 2, 10])"
      ]
     },
     "execution_count": 93,
     "metadata": {},
     "output_type": "execute_result"
    }
   ],
   "source": [
    "e = torch.rand(2,4,5)\n",
    "print(e)\n",
    "explicit = torch.cat([e[:, ::2, :], e[:, 1::2, :]], dim = 2)\n",
    "explicit.shape"
   ]
  },
  {
   "cell_type": "code",
   "execution_count": 104,
   "id": "b320d215-9248-4047-a2d1-0a35d0fe1e0f",
   "metadata": {},
   "outputs": [],
   "source": [
    "torch.manual_seed(42);"
   ]
  },
  {
   "cell_type": "code",
   "execution_count": 129,
   "id": "318172f4-c698-4bc9-a6eb-f34f244eb1a5",
   "metadata": {},
   "outputs": [
    {
     "name": "stdout",
     "output_type": "stream",
     "text": [
      "178156\n"
     ]
    }
   ],
   "source": [
    "n_embed = 27 # the dimensionality of the embedding lookup table\\\n",
    "n_hidden = 200 # the number of neurons in the hidden layer of the MLP\n",
    "\n",
    "model = Sequential([\n",
    "    Embedding(vocab_size, n_embed),\n",
    "    FlattenConsecutive(2), Linear(n_embed*2, n_hidden, bias=False), BatchNorm1d(n_hidden), Tanh(),\n",
    "    FlattenConsecutive(2), Linear(n_hidden*2, n_hidden, bias=False), BatchNorm1d(n_hidden), Tanh(),\n",
    "    FlattenConsecutive(2), Linear(n_hidden*2, n_hidden, bias=False), BatchNorm1d(n_hidden), Tanh(),\n",
    "    Linear(n_hidden, vocab_size), \n",
    "])\n",
    "\n",
    "with torch.no_grad():\n",
    "    #last layer make less confident\n",
    "    layers[-1].weight *= 0.1\n",
    "    # all other linear layers apply gain\n",
    "    for layer in layers[:-1]:\n",
    "        if isinstance(layer, Linear):\n",
    "            layer.weight *= 5/3 #5/3\n",
    "\n",
    "parameters = model.parameters()\n",
    "print(sum(p.nelement() for p in parameters)) # number of params in total\n",
    "for p in parameters:\n",
    "    p.requires_grad = True"
   ]
  },
  {
   "cell_type": "code",
   "execution_count": 130,
   "id": "dc9a06b0-9dd4-40cd-9a4c-eab5f767ae3b",
   "metadata": {},
   "outputs": [
    {
     "name": "stdout",
     "output_type": "stream",
     "text": [
      "      0/ 300000: 3.9297\n",
      "  10000/ 300000: 2.8028\n",
      "  20000/ 300000: 2.0348\n",
      "  30000/ 300000: 1.9492\n",
      "  40000/ 300000: 1.8737\n",
      "  50000/ 300000: 2.0661\n",
      "  60000/ 300000: 1.5560\n",
      "  70000/ 300000: 1.8592\n",
      "  80000/ 300000: 1.9818\n",
      "  90000/ 300000: 1.7388\n",
      " 100000/ 300000: 2.2150\n",
      " 110000/ 300000: 1.4097\n",
      " 120000/ 300000: 2.5752\n",
      " 130000/ 300000: 1.8993\n",
      " 140000/ 300000: 2.0863\n",
      " 150000/ 300000: 2.5696\n",
      " 160000/ 300000: 1.4278\n",
      " 170000/ 300000: 1.4402\n",
      " 180000/ 300000: 1.7116\n",
      " 190000/ 300000: 1.6640\n",
      " 200000/ 300000: 1.5344\n",
      " 210000/ 300000: 2.0958\n",
      " 220000/ 300000: 1.8031\n",
      " 230000/ 300000: 1.9973\n",
      " 240000/ 300000: 1.9921\n",
      " 250000/ 300000: 1.3821\n",
      " 260000/ 300000: 1.3908\n",
      " 270000/ 300000: 1.5628\n",
      " 280000/ 300000: 1.6257\n",
      " 290000/ 300000: 1.8150\n"
     ]
    }
   ],
   "source": [
    "max_steps = 300000\n",
    "batch_size = 32\n",
    "lossi = []\n",
    "\n",
    "for i in range(max_steps):\n",
    "\n",
    "    #minibatch contruct\n",
    "    ix = torch.randint(1, Xtr.shape[0], (batch_size, ))\n",
    "    Xb, Yb = Xtr[ix], Ytr[ix] #batch X,Y\n",
    "\n",
    "    # forward pass\n",
    "    logits = model(Xb)\n",
    "    loss = F.cross_entropy(logits, Yb) #loss function\n",
    "\n",
    "    #backward pass\n",
    "    for p in parameters:\n",
    "        p.grad = None \n",
    "    loss.backward()\n",
    "\n",
    "    #update\n",
    "    lr = 0.1 if i < 150000 else 0.01\n",
    "    for p in parameters:\n",
    "        p.data += -lr * p.grad\n",
    "\n",
    "    # track stats\n",
    "    if i % 10000 == 0:\n",
    "        print(f'{i:7d}/{max_steps:7d}: {loss.item():.4f}')\n",
    "    lossi.append(loss.log10().item())\n"
   ]
  },
  {
   "cell_type": "code",
   "execution_count": 131,
   "id": "b8bdfcc9-b48a-497b-8679-6a5a7c649721",
   "metadata": {},
   "outputs": [
    {
     "name": "stdout",
     "output_type": "stream",
     "text": [
      "Embedding : (32, 8, 27)\n",
      "FlattenConsecutive : (32, 4, 54)\n",
      "Linear : (32, 4, 200)\n",
      "BatchNorm1d : (32, 4, 200)\n",
      "Tanh : (32, 4, 200)\n",
      "FlattenConsecutive : (32, 2, 400)\n",
      "Linear : (32, 2, 200)\n",
      "BatchNorm1d : (32, 2, 200)\n",
      "Tanh : (32, 2, 200)\n",
      "FlattenConsecutive : (32, 400)\n",
      "Linear : (32, 200)\n",
      "BatchNorm1d : (32, 200)\n",
      "Tanh : (32, 200)\n",
      "Linear : (32, 27)\n"
     ]
    }
   ],
   "source": [
    "for layer in model.layers:\n",
    "    print(layer.__class__.__name__, ':', tuple(layer.out.shape))"
   ]
  },
  {
   "cell_type": "code",
   "execution_count": 132,
   "id": "43243795-79c9-4ce6-8852-ecd15ed4e745",
   "metadata": {},
   "outputs": [
    {
     "data": {
      "text/plain": [
       "[<matplotlib.lines.Line2D at 0x12fb09090>]"
      ]
     },
     "execution_count": 132,
     "metadata": {},
     "output_type": "execute_result"
    },
    {
     "data": {
      "image/png": "[encoded data removed]",
      "text/plain": [
       "<Figure size 640x480 with 1 Axes>"
      ]
     },
     "metadata": {},
     "output_type": "display_data"
    }
   ],
   "source": [
    "plt.plot(torch.tensor(lossi).view(-1, 1000).mean(1)) #takes avg loss of every 1000 iterations and plots that"
   ]
  },
  {
   "cell_type": "code",
   "execution_count": 133,
   "id": "d998e9c7-58ac-4f3f-837c-53861a1854db",
   "metadata": {},
   "outputs": [],
   "source": [
    "for layer in model.layers:\n",
    "    layer.training = False # to set the training flag in batchnorm layers as false"
   ]
  },
  {
   "cell_type": "code",
   "execution_count": 134,
   "id": "d7e50168-4212-4832-b6f2-63fd2ef994fd",
   "metadata": {},
   "outputs": [
    {
     "name": "stdout",
     "output_type": "stream",
     "text": [
      "train 1.6797455549240112\n",
      "dev 2.0027761459350586\n"
     ]
    }
   ],
   "source": [
    "@torch.no_grad() #this decorator disables gradient tracking\n",
    "def split_loss(split):\n",
    "    x,y = {\n",
    "        'train' : (Xtr, Ytr),\n",
    "        'dev' : (Xdev, Ydev),\n",
    "        'test' : (Xte, Yte),\n",
    "    }[split]\n",
    "\n",
    "    logits = model(x)\n",
    "    loss = F.cross_entropy(logits, y)\n",
    "    print(split, loss.item())\n",
    "\n",
    "split_loss('train')\n",
    "split_loss('dev')"
   ]
  },
  {
   "cell_type": "code",
   "execution_count": 135,
   "id": "9edb018d-d1f7-4b37-9761-675ac240dcdf",
   "metadata": {},
   "outputs": [
    {
     "name": "stdout",
     "output_type": "stream",
     "text": [
      "laref.\n",
      "jaheem.\n",
      "elizlynn.\n",
      "maziah.\n",
      "oryan.\n",
      "kamrynn.\n",
      "ellenah.\n",
      "daimin.\n",
      "aiyani.\n",
      "jayshawn.\n",
      "asahi.\n",
      "kamel.\n",
      "annaki.\n",
      "shafeh.\n",
      "ebugae.\n",
      "analeigh.\n",
      "aaryah.\n",
      "carelle.\n",
      "azrael.\n",
      "henrix.\n"
     ]
    }
   ],
   "source": [
    "for _ in range(20):\n",
    "    out = []\n",
    "    context = [0] * block_size # initializing with . . .\n",
    "    while True:\n",
    "        #forward pass\n",
    "        logits = model(torch.tensor([context]))\n",
    "        probs = torch.softmax(logits, dim=1)\n",
    "        #sample from the distribtion\n",
    "        ix = torch.multinomial(probs, num_samples = 1).item()\n",
    "        #shifting the context window\n",
    "        context = context[1:] + [ix]\n",
    "        out.append(ix)\n",
    "        #if we encounted a special character\n",
    "        if ix == 0:\n",
    "            break\n",
    "\n",
    "    print(''.join(itos[i] for i in out)) #decode and print the generated word"
   ]
  },
  {
   "cell_type": "code",
   "execution_count": null,
   "id": "6e0f775c-b319-4335-bf2f-a09543ce5780",
   "metadata": {},
   "outputs": [],
   "source": []
  },
  {
   "cell_type": "code",
   "execution_count": null,
   "id": "3416c2cb-523c-43ea-b1fe-8b1c694adfaf",
   "metadata": {},
   "outputs": [],
   "source": []
  }
 ],
 "metadata": {
  "kernelspec": {
   "display_name": "Python 3 (ipykernel)",
   "language": "python",
   "name": "python3"
  },
  "language_info": {
   "codemirror_mode": {
    "name": "ipython",
    "version": 3
   },
   "file_extension": ".py",
   "mimetype": "text/x-python",
   "name": "python",
   "nbconvert_exporter": "python",
   "pygments_lexer": "ipython3",
   "version": "3.11.7"
  }
 },
 "nbformat": 4,
 "nbformat_minor": 5
}
