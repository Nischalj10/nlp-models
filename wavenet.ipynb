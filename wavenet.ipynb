{
 "cells": [
  {
   "cell_type": "code",
   "execution_count": 24,
   "id": "6ed84b86-1ca5-4600-9ba2-284cc68e59d3",
   "metadata": {},
   "outputs": [],
   "source": [
    "import torch\n",
    "import torch.nn.functional as F\n",
    "import matplotlib.pyplot as plt\n",
    "%matplotlib inline"
   ]
  },
  {
   "cell_type": "code",
   "execution_count": 25,
   "id": "24bd7e40-04c0-4146-86e7-37f79d2e79f3",
   "metadata": {},
   "outputs": [
    {
     "data": {
      "text/plain": [
       "['emma',\n",
       " 'olivia',\n",
       " 'ava',\n",
       " 'isabella',\n",
       " 'sophia',\n",
       " 'charlotte',\n",
       " 'mia',\n",
       " 'amelia',\n",
       " 'harper',\n",
       " 'evelyn']"
      ]
     },
     "execution_count": 25,
     "metadata": {},
     "output_type": "execute_result"
    }
   ],
   "source": [
    "# read all the names in the dataset\n",
    "words = open('names.txt',  'r').read().splitlines()\n",
    "words[:10]"
   ]
  },
  {
   "cell_type": "code",
   "execution_count": 26,
   "id": "3685ff1a-116d-4276-99a7-515bb134789d",
   "metadata": {},
   "outputs": [],
   "source": [
    "#building the vocabulary of characters and mapping them to integers\n",
    "chars = sorted(list(set(''.join(words))))\n",
    "stoi = {s:i+1 for i,s in enumerate(chars)}\n",
    "stoi['.'] = 0\n",
    "itos = {i:s for s,i in stoi.items()}"
   ]
  },
  {
   "cell_type": "code",
   "execution_count": 27,
   "id": "c42b06c7-76f2-4396-ba73-c88e844561d6",
   "metadata": {},
   "outputs": [],
   "source": [
    "#build datasets\n",
    "\n",
    "import random\n",
    "random.seed(42)\n",
    "random.shuffle(words)\n",
    "\n",
    "block_size = 3 # context length\n",
    "vocab_size = 27 # number of chars in our char vocabulary (total possible outputs)\n",
    "\n",
    "def build_dataset(words):\n",
    "    #dataset prep\n",
    "    X, Y = [], []  \n",
    "    \n",
    "    for w in words:\n",
    "        context = [0] * block_size\n",
    "        for ch in w + '.':\n",
    "            ix = stoi[ch]\n",
    "            X.append(context)\n",
    "            Y.append(ix)\n",
    "            context = context[1:] + [ix]  #crop and append\n",
    "    \n",
    "    X = torch.tensor(X)\n",
    "    Y = torch.tensor(Y)\n",
    "    return X, Y\n",
    "\n",
    "n1 = int(0.8*len(words))\n",
    "n2 = int(0.9*len(words))\n",
    "\n",
    "Xtr, Ytr = build_dataset(words[:n1])       #80%\n",
    "Xdev, Ydev = build_dataset(words[n1:n2])   #10%\n",
    "Xte, Yte = build_dataset(words[n2:])       #10%"
   ]
  },
  {
   "cell_type": "code",
   "execution_count": 28,
   "id": "fcc4c06a-9b9c-416e-b595-5eaa0286cd60",
   "metadata": {},
   "outputs": [],
   "source": [
    "class Linear:\n",
    "    def __init__(self, fan_in, fan_out, bias=True):\n",
    "        self.weight = torch.randn((fan_in, fan_out)) / fan_in ** 0.5 \n",
    "        self.bias = torch.randn(fan_out) if bias else None\n",
    "\n",
    "    def __call__(self, x):\n",
    "        self.out = x @ self.weight\n",
    "        if self.bias is not None:\n",
    "            self.out += self.bias\n",
    "        return self.out\n",
    "\n",
    "    def parameters(self):\n",
    "        return [self.weight] + ([] if self.bias is None else [self.bias])\n",
    "\n",
    "class BatchNorm1d:\n",
    "    def __init__(self, dim, eps = 1e-5, momentum=0.1):\n",
    "        self.eps = eps\n",
    "        self.momentum = momentum\n",
    "        self.training = True\n",
    "        #parameters - trained with backprop\n",
    "        self.gamma = torch.ones(dim)\n",
    "        self.beta = torch.zeros(dim)\n",
    "        # bufers - not trained with backprop but on the side with momentum to counter the batch norm on single input inference\n",
    "        self.running_mean = torch.zeros(dim)\n",
    "        self.running_var = torch.ones(dim)\n",
    "\n",
    "    def __call__(self, x):\n",
    "        #calculate forward pass\n",
    "        if self.training:\n",
    "            xmean = x.mean(0, keepdims=True)\n",
    "            xvar = x.var(0, keepdims=True)\n",
    "        else:\n",
    "            xmean = self.running_mean\n",
    "            xvar = self.running_var\n",
    "\n",
    "        xhat = (x - xmean) / torch.sqrt(xvar+ self.eps) # normailise to unit variance\n",
    "        self.out = self.gamma * xhat + self.beta\n",
    "        #update the buffers\n",
    "        if self.training:\n",
    "            with torch.no_grad():\n",
    "                self.running_mean = (1 - self.momentum) * self.running_mean + self.momentum * xmean\n",
    "                self.running_var = (1 - self.momentum) * self.running_var + self.momentum * xvar\n",
    "        return self.out\n",
    "\n",
    "    def parameters(self):\n",
    "        return [self.gamma, self.beta]\n",
    "\n",
    "class Tanh:\n",
    "    def __call__(self, x):\n",
    "        self.out = torch.tanh(x)\n",
    "        return self.out\n",
    "    def parameters(self):\n",
    "        return []\n"
   ]
  },
  {
   "cell_type": "code",
   "execution_count": 29,
   "id": "b320d215-9248-4047-a2d1-0a35d0fe1e0f",
   "metadata": {},
   "outputs": [],
   "source": [
    "torch.manual_seed(42);"
   ]
  },
  {
   "cell_type": "code",
   "execution_count": 30,
   "id": "318172f4-c698-4bc9-a6eb-f34f244eb1a5",
   "metadata": {},
   "outputs": [
    {
     "name": "stdout",
     "output_type": "stream",
     "text": [
      "12097\n"
     ]
    }
   ],
   "source": [
    "n_embed = 10 # the dimensionality of the embedding lookup table\\\n",
    "n_hidden = 200 # the number of neurons in the hidden layer of the MLP\n",
    "\n",
    "C = torch.randn((vocab_size, n_embed))\n",
    "\n",
    "layers = [\n",
    "    Linear(n_embed*block_size, n_hidden, bias=False), BatchNorm1d(n_hidden), Tanh(),\n",
    "    Linear(n_hidden, vocab_size), \n",
    "]\n",
    "\n",
    "\n",
    "with torch.no_grad():\n",
    "    #last layer make less confident\n",
    "    layers[-1].weight *= 0.1\n",
    "    # all othe rlayers apply gain\n",
    "    for layer in layers[:-1]:\n",
    "        if isinstance(layer, Linear):\n",
    "            layer.weight *= 5/3 #5/3\n",
    "\n",
    "parameters = [C] + [p for layer in layers for p in layer.parameters()]\n",
    "print(sum(p.nelement() for p in parameters)) # number of params in total\n",
    "for p in parameters:\n",
    "    p.requires_grad = True"
   ]
  },
  {
   "cell_type": "code",
   "execution_count": 31,
   "id": "dc9a06b0-9dd4-40cd-9a4c-eab5f767ae3b",
   "metadata": {},
   "outputs": [
    {
     "name": "stdout",
     "output_type": "stream",
     "text": [
      "      0/ 200000: 3.3727\n",
      "  10000/ 200000: 2.1458\n",
      "  20000/ 200000: 2.2967\n",
      "  30000/ 200000: 2.1526\n",
      "  40000/ 200000: 2.0247\n",
      "  50000/ 200000: 2.1767\n",
      "  60000/ 200000: 2.2853\n",
      "  70000/ 200000: 2.4672\n",
      "  80000/ 200000: 2.2691\n",
      "  90000/ 200000: 2.2537\n",
      " 100000/ 200000: 2.1892\n",
      " 110000/ 200000: 2.0261\n",
      " 120000/ 200000: 2.0227\n",
      " 130000/ 200000: 2.2644\n",
      " 140000/ 200000: 2.0927\n",
      " 150000/ 200000: 2.1780\n",
      " 160000/ 200000: 2.2652\n",
      " 170000/ 200000: 1.7924\n",
      " 180000/ 200000: 2.0633\n",
      " 190000/ 200000: 2.2720\n"
     ]
    }
   ],
   "source": [
    "max_steps = 200000\n",
    "batch_size = 32\n",
    "lossi = []\n",
    "ud = []\n",
    "\n",
    "for i in range(max_steps):\n",
    "\n",
    "    #minibatch contruct\n",
    "    ix = torch.randint(1, Xtr.shape[0], (batch_size, ))\n",
    "    Xb, Yb = Xtr[ix], Ytr[ix] #batch X,Y\n",
    "\n",
    "    # forward pass\n",
    "    emb = C[Xb]\n",
    "    x = emb.view(emb.shape[0] , -1)\n",
    "    for layer in layers:\n",
    "        x = layer(x)\n",
    "    loss = F.cross_entropy(x, Yb) #loss function\n",
    "\n",
    "    #backward pass\n",
    "    for p in parameters:\n",
    "        p.grad = None\n",
    "    loss.backward()\n",
    "\n",
    "    #update\n",
    "    lr = 0.1 if i < 150000 else 0.01\n",
    "    for p in parameters:\n",
    "        p.data += -lr * p.grad\n",
    "\n",
    "    # track stats\n",
    "    if i % 10000 == 0:\n",
    "        print(f'{i:7d}/{max_steps:7d}: {loss.item():.4f}')\n",
    "    lossi.append(loss.log10().item())\n"
   ]
  },
  {
   "cell_type": "code",
   "execution_count": 40,
   "id": "43243795-79c9-4ce6-8852-ecd15ed4e745",
   "metadata": {},
   "outputs": [
    {
     "data": {
      "text/plain": [
       "[<matplotlib.lines.Line2D at 0x126d0a450>]"
      ]
     },
     "execution_count": 40,
     "metadata": {},
     "output_type": "execute_result"
    },
    {
     "data": {
      "image/png": "[encoded data removed]",
      "text/plain": [
       "<Figure size 640x480 with 1 Axes>"
      ]
     },
     "metadata": {},
     "output_type": "display_data"
    }
   ],
   "source": [
    "plt.plot(torch.tensor(lossi).view(-1, 1000).mean(1)) #takes avg loss of every 1000 iterations and plots that"
   ]
  },
  {
   "cell_type": "code",
   "execution_count": 33,
   "id": "d998e9c7-58ac-4f3f-837c-53861a1854db",
   "metadata": {},
   "outputs": [],
   "source": [
    "for layer in layers:\n",
    "    layer.training = False # to set the training flag in batchnorm layers as false"
   ]
  },
  {
   "cell_type": "code",
   "execution_count": 36,
   "id": "d7e50168-4212-4832-b6f2-63fd2ef994fd",
   "metadata": {},
   "outputs": [
    {
     "name": "stdout",
     "output_type": "stream",
     "text": [
      "train 2.063005208969116\n",
      "dev 2.107250213623047\n"
     ]
    }
   ],
   "source": [
    "@torch.no_grad() #this decorator disables gradient tracking\n",
    "def split_loss(split):\n",
    "    x,y = {\n",
    "        'train' : (Xtr, Ytr),\n",
    "        'dev' : (Xdev, Ydev),\n",
    "        'test' : (Xte, Yte),\n",
    "    }[split]\n",
    "\n",
    "    emb = C[x]\n",
    "    x = emb.view(emb.shape[0], -1) #concat into N(total samples), block_size * n_embed\n",
    "    for layer in layers:\n",
    "        x = layer(x)\n",
    "    loss = F.cross_entropy(x, y)\n",
    "    print(split, loss.item())\n",
    "\n",
    "split_loss('train')\n",
    "split_loss('dev')"
   ]
  },
  {
   "cell_type": "code",
   "execution_count": 38,
   "id": "9edb018d-d1f7-4b37-9761-675ac240dcdf",
   "metadata": {},
   "outputs": [
    {
     "name": "stdout",
     "output_type": "stream",
     "text": [
      "kei.\n",
      "sakhan.\n",
      "teona.\n",
      "khyah.\n",
      "zimilolan.\n",
      "halle.\n",
      "kyleah.\n",
      "kenslewan.\n",
      "roidia.\n",
      "anya.\n",
      "lav.\n",
      "demin.\n",
      "carric.\n",
      "emirah.\n",
      "rowian.\n",
      "jatzle.\n",
      "rorence.\n",
      "noy.\n",
      "haiveela.\n",
      "nick.\n"
     ]
    }
   ],
   "source": [
    "for _ in range(20):\n",
    "    out = []\n",
    "    context = [0] * block_size # initializing with . . .\n",
    "    while True:\n",
    "        #forward pass\n",
    "        emb = C[torch.tensor([context])] #(1, block_size, n_embed)\n",
    "        x = emb.view(1, -1)\n",
    "        for layer in layers:\n",
    "            x = layer(x)\n",
    "        logits = x\n",
    "        probs = torch.softmax(logits, dim=1)\n",
    "        #sample from the distribtion\n",
    "        ix = torch.multinomial(probs, num_samples = 1).item()\n",
    "        #shifting the context window\n",
    "        context = context[1:] + [ix]\n",
    "        out.append(ix)\n",
    "        #if we encounted a special character\n",
    "        if ix == 0:\n",
    "            break\n",
    "\n",
    "    print(''.join(itos[i] for i in out)) #decode and print the generated word"
   ]
  },
  {
   "cell_type": "code",
   "execution_count": null,
   "id": "6e0f775c-b319-4335-bf2f-a09543ce5780",
   "metadata": {},
   "outputs": [],
   "source": []
  },
  {
   "cell_type": "code",
   "execution_count": null,
   "id": "3416c2cb-523c-43ea-b1fe-8b1c694adfaf",
   "metadata": {},
   "outputs": [],
   "source": []
  }
 ],
 "metadata": {
  "kernelspec": {
   "display_name": "Python 3 (ipykernel)",
   "language": "python",
   "name": "python3"
  },
  "language_info": {
   "codemirror_mode": {
    "name": "ipython",
    "version": 3
   },
   "file_extension": ".py",
   "mimetype": "text/x-python",
   "name": "python",
   "nbconvert_exporter": "python",
   "pygments_lexer": "ipython3",
   "version": "3.11.7"
  }
 },
 "nbformat": 4,
 "nbformat_minor": 5
}
