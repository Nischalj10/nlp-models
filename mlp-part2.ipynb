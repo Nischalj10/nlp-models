{
 "cells": [
  {
   "cell_type": "code",
   "execution_count": 1,
   "id": "b8100e00-b8a7-4748-9201-58062aad4bf3",
   "metadata": {},
   "outputs": [],
   "source": [
    "import torch\n",
    "import torch.nn.functional as F\n",
    "import matplotlib.pyplot as plt\n",
    "%matplotlib inline"
   ]
  },
  {
   "cell_type": "code",
   "execution_count": 2,
   "id": "0662c3d5-bc9f-4a58-afd4-2e4f78eb0adb",
   "metadata": {},
   "outputs": [
    {
     "data": {
      "text/plain": [
       "['emma',\n",
       " 'olivia',\n",
       " 'ava',\n",
       " 'isabella',\n",
       " 'sophia',\n",
       " 'charlotte',\n",
       " 'mia',\n",
       " 'amelia',\n",
       " 'harper',\n",
       " 'evelyn']"
      ]
     },
     "execution_count": 2,
     "metadata": {},
     "output_type": "execute_result"
    }
   ],
   "source": [
    "# read all the names in the dataset\n",
    "words = open('names.txt',  'r').read().splitlines()\n",
    "words[:10]"
   ]
  },
  {
   "cell_type": "code",
   "execution_count": 3,
   "id": "40607545-0142-4e47-8a25-4382780282d2",
   "metadata": {},
   "outputs": [
    {
     "data": {
      "text/plain": [
       "32033"
      ]
     },
     "execution_count": 3,
     "metadata": {},
     "output_type": "execute_result"
    }
   ],
   "source": [
    "len(words)"
   ]
  },
  {
   "cell_type": "code",
   "execution_count": 4,
   "id": "4d16431f-bb49-47a7-8510-7bbc5712eae6",
   "metadata": {},
   "outputs": [],
   "source": [
    "#building the vocabulary of characters and mapping them to integers\n",
    "chars = sorted(list(set(''.join(words))))\n",
    "stoi = {s:i+1 for i,s in enumerate(chars)}\n",
    "stoi['.'] = 0\n",
    "itos = {i:s for s,i in stoi.items()}"
   ]
  },
  {
   "cell_type": "code",
   "execution_count": 163,
   "id": "2f9fb85c-4cb9-4c0c-a52e-6fab6e8bd308",
   "metadata": {},
   "outputs": [],
   "source": [
    "#build datasets\n",
    "\n",
    "block_size = 3 # context length\n",
    "vocab_size = 27 # number of chars in our char vocabulary (total possible outputs)\n",
    "\n",
    "def build_dataset(words):\n",
    "    #dataset prep\n",
    "    X, Y = [], []  \n",
    "    \n",
    "    for w in words:\n",
    "        context = [0] * block_size\n",
    "        for ch in w + '.':\n",
    "            ix = stoi[ch]\n",
    "            X.append(context)\n",
    "            Y.append(ix)\n",
    "            context = context[1:] + [ix]  #crop and append\n",
    "    \n",
    "    X = torch.tensor(X)\n",
    "    Y = torch.tensor(Y)\n",
    "    return X, Y\n",
    "\n",
    "import random\n",
    "random.seed(42)\n",
    "random.shuffle(words)\n",
    "n1 = int(0.8*len(words))\n",
    "n2 = int(0.9*len(words))\n",
    "\n",
    "Xtr, Ytr = build_dataset(words[:n1])       #80%\n",
    "Xdev, Ydev = build_dataset(words[n1:n2])   #10%\n",
    "Xte, Yte = build_dataset(words[n2:])       #10%"
   ]
  },
  {
   "cell_type": "code",
   "execution_count": 164,
   "id": "b9d241bf-d476-42d7-88e6-4c9ec652418d",
   "metadata": {},
   "outputs": [
    {
     "name": "stdout",
     "output_type": "stream",
     "text": [
      "12097\n"
     ]
    }
   ],
   "source": [
    "g = torch.Generator().manual_seed(2147483647) #for reproducibility\n",
    "\n",
    "n_embed = 10 # dimensions of the embedding vectors corresponding to each of the character\n",
    "n_hidden = 200 # number of neurons in the hidden tanh layer\n",
    "\n",
    "#initialisation\n",
    "C = torch.randn((vocab_size, n_embed),             generator=g)\n",
    "W1 = torch.randn((block_size * n_embed, n_hidden), generator=g) * (5/3) / ((block_size * n_embed)**2) #gain/sqroot(inputs) (kaiming init)    # 0.2 #very very low to avoid hpreact taking extreme values leading to tanh being 1/ -1 and the on backprop becasue of 1- t**2 differential, no gradient descent will change the value of the neuron and these are effectively dead neurons\n",
    "#b1 = torch.randn(n_hidden,                         generator=g) * 0.01 # same as above reason # b1 will get by hpreact - bnmean and will have no impact. bnbias is instead there to add bias\n",
    "W2 = torch.rand((n_hidden, vocab_size),            generator=g) * 0.01 #(5/3) / ((n_hidden)**2) #gain/sqroot(inputs) (kaiming init) # 0.01 # same reason as below, trying to make logits all as small (close to zero) as possbile to have a good starting point\n",
    "b2 = torch.rand(vocab_size,                        generator=g) * 0 # zero at initialisation because we want logits to be as small/ close to zera as possible (otherwise iteration 1 is way off that a smooth distribution loss)\n",
    "\n",
    "bngain = torch.ones((1, n_hidden))\n",
    "bnbias = torch.zeros((1, n_hidden))\n",
    "bnmean_running = torch.zeros((1, n_hidden))\n",
    "bnstd_running = torch.ones((1, n_hidden))\n",
    "\n",
    "parameters = [C, W1, W2, b2, bngain, bnbias]\n",
    "\n",
    "print(sum(p.nelement() for p in parameters))\n",
    "\n",
    "for p in parameters:\n",
    "    p.requires_grad = True"
   ]
  },
  {
   "cell_type": "code",
   "execution_count": 165,
   "id": "b8f4461b-f2e3-426c-853b-54a6f3138212",
   "metadata": {},
   "outputs": [
    {
     "name": "stdout",
     "output_type": "stream",
     "text": [
      "      0/ 200000: 3.2969\n",
      "  10000/ 200000: 2.1334\n",
      "  20000/ 200000: 2.2985\n",
      "  30000/ 200000: 2.0130\n",
      "  40000/ 200000: 2.1626\n",
      "  50000/ 200000: 2.1163\n",
      "  60000/ 200000: 2.5517\n",
      "  70000/ 200000: 2.2950\n",
      "  80000/ 200000: 2.3961\n",
      "  90000/ 200000: 2.3794\n",
      " 100000/ 200000: 2.0337\n",
      " 110000/ 200000: 2.2268\n",
      " 120000/ 200000: 1.8882\n",
      " 130000/ 200000: 2.1793\n",
      " 140000/ 200000: 1.9140\n",
      " 150000/ 200000: 2.0697\n",
      " 160000/ 200000: 2.0884\n",
      " 170000/ 200000: 2.1666\n",
      " 180000/ 200000: 2.1801\n",
      " 190000/ 200000: 1.8457\n"
     ]
    }
   ],
   "source": [
    "max_steps = 200000\n",
    "batch_size = 64\n",
    "lossi = []\n",
    "\n",
    "for i in range(max_steps):\n",
    "    \n",
    "    #minibatch - samples that we want to train in this pass\n",
    "    ix = torch.randint(0, Xtr.shape[0], (batch_size,))\n",
    "    Xb, Yb = Xtr[ix], Ytr[ix]\n",
    "    \n",
    "    #forward pass\n",
    "    emb = C[Xb] #batch_size, block_size (3) , embedding dimensions (10)\n",
    "    embcat = emb.view(-1, block_size * n_embed) #concatenate the vectors\n",
    "    hpreact = embcat @ W1 #+ b1 # b1 will get by hpreact - bnmean and will have no impact. bnbias is instead there to add bias  #hidden layer pre activation\n",
    "    #batch normalisation\n",
    "    bnmeani = hpreact.mean(0, keepdims=True)\n",
    "    bnstdi = hpreact.std(0, keepdims=True)\n",
    "    hpreact = bngain * (hpreact - bnmeani) / bnstdi  + bnbias\n",
    "\n",
    "    #updating running bn mean and std\n",
    "    with torch.no_grad(): \n",
    "        bnmean_running = 0.999 * bnmean_running + 0.001 * bnmeani\n",
    "        bnstd_running = 0.999 * bnstd_running + 0.001 * bnstdi\n",
    "\n",
    "    \n",
    "    h = torch.tanh(hpreact) #hidden layer \n",
    "    logits = h @ W2 + b2  #output layer\n",
    "    loss = F.cross_entropy(logits, Yb) #loss function\n",
    "    \n",
    "    #backard pass\n",
    "    for p in parameters:\n",
    "        p.grad = None\n",
    "    loss.backward()\n",
    "\n",
    "    #update\n",
    "    lr = 10**-0.75 if i < max_steps/2 else 10**-1.75 #step learning rate decay\n",
    "    for p in parameters:\n",
    "        p.data += -lr * p.grad\n",
    "    \n",
    "    #track stats\n",
    "    if i % 10000 == 0: #print every once in a while\n",
    "        print(f'{i:7d}/{max_steps:7d}: {loss.item():.4f}')\n",
    "    lossi.append(loss.log10().item())\n"
   ]
  },
  {
   "cell_type": "code",
   "execution_count": 155,
   "id": "fa2b692e-7c24-455e-81a7-9bab18550e0a",
   "metadata": {},
   "outputs": [
    {
     "data": {
      "text/plain": [
       "torch.Size([1, 200])"
      ]
     },
     "execution_count": 155,
     "metadata": {},
     "output_type": "execute_result"
    }
   ],
   "source": [
    "hpreact.mean(0, keepdims=True).shape\n",
    "hpreact.std(0, keepdims=True).shape"
   ]
  },
  {
   "cell_type": "code",
   "execution_count": 156,
   "id": "d43a5806-aa62-4853-ac85-1edfef276387",
   "metadata": {},
   "outputs": [
    {
     "data": {
      "text/plain": [
       "<matplotlib.image.AxesImage at 0x14ab23110>"
      ]
     },
     "execution_count": 156,
     "metadata": {},
     "output_type": "execute_result"
    },
    {
     "data": {
      "image/png": "[encoded data removed]",
      "text/plain": [
       "<Figure size 1000x500 with 1 Axes>"
      ]
     },
     "metadata": {},
     "output_type": "display_data"
    }
   ],
   "source": [
    "plt.figure(figsize=(10,5))\n",
    "plt.imshow(h.abs() > 0.99, cmap='gray', interpolation='nearest')"
   ]
  },
  {
   "cell_type": "code",
   "execution_count": 157,
   "id": "37dbe023-fc57-48f5-924f-387bacb787a5",
   "metadata": {},
   "outputs": [
    {
     "data": {
      "image/png": "[encoded data removed]",
      "text/plain": [
       "<Figure size 640x480 with 1 Axes>"
      ]
     },
     "metadata": {},
     "output_type": "display_data"
    }
   ],
   "source": [
    "plt.hist(hpreact.view(-1).tolist());"
   ]
  },
  {
   "cell_type": "code",
   "execution_count": 158,
   "id": "dead346a-14a1-4e07-9f02-d14c5387d772",
   "metadata": {},
   "outputs": [
    {
     "data": {
      "image/png": "[encoded data removed]",
      "text/plain": [
       "<Figure size 640x480 with 1 Axes>"
      ]
     },
     "metadata": {},
     "output_type": "display_data"
    }
   ],
   "source": [
    "plt.hist(h.view(-1).tolist());"
   ]
  },
  {
   "cell_type": "code",
   "execution_count": 159,
   "id": "69646f9b-0a01-4d34-b70a-ec47e01f677e",
   "metadata": {},
   "outputs": [
    {
     "data": {
      "text/plain": [
       "[<matplotlib.lines.Line2D at 0x14e9d8c50>]"
      ]
     },
     "execution_count": 159,
     "metadata": {},
     "output_type": "execute_result"
    },
    {
     "data": {
      "image/png": "[encoded data removed]",
      "text/plain": [
       "<Figure size 640x480 with 1 Axes>"
      ]
     },
     "metadata": {},
     "output_type": "display_data"
    }
   ],
   "source": [
    "plt.plot(lossi)"
   ]
  },
  {
   "cell_type": "code",
   "execution_count": null,
   "id": "39f9f36b-0765-4175-80a3-c7be0c604855",
   "metadata": {},
   "outputs": [],
   "source": []
  },
  {
   "cell_type": "code",
   "execution_count": 160,
   "id": "ee7b0e23-b953-49d9-980d-f6a4361fdc17",
   "metadata": {},
   "outputs": [],
   "source": [
    "# calibrate the batch norm at the end of training to be able to accept single inputs during inference as we are not passing normalised batchess during trainng\n",
    "with torch.no_grad():\n",
    "    #pass the training set\n",
    "    emb = C[Xtr]\n",
    "    embcat = emb.view(emb.shape[0], -1) \n",
    "    hpreact = embcat @ W1 + b1\n",
    "    #measure std deviation / mean across the entire training set\n",
    "    bnmean = hpreact.mean(0, keepdim=True)\n",
    "    bnstd = hpreact.std(0, keepdim=True)"
   ]
  },
  {
   "cell_type": "code",
   "execution_count": 161,
   "id": "df67b33b-fa10-413d-a570-90411bd791e5",
   "metadata": {},
   "outputs": [
    {
     "name": "stdout",
     "output_type": "stream",
     "text": [
      "train 2.0346548557281494\n",
      "dev 2.1010234355926514\n"
     ]
    }
   ],
   "source": [
    "@torch.no_grad() #this decorator disables gradient tracking\n",
    "def split_loss(split):\n",
    "    x,y = {\n",
    "        'train' : (Xtr, Ytr),\n",
    "        'dev' : (Xdev, Ydev),\n",
    "        'test' : (Xte, Yte),\n",
    "    }[split]\n",
    "\n",
    "    emb = C[x]\n",
    "    embcat = emb.view(emb.shape[0], -1) #concat into N(total samples), block_size * n_embed\n",
    "    hpreact = embcat @ W1 #+ b1 # b1 will get by hpreact - bnmean and will have no impact. bnbias is instead there to add bias\n",
    "    #batch normalisation\n",
    "    hpreact = bngain * (hpreact - bnmean_running)/ bnstd_running + bnbias\n",
    "    h = torch.tanh(hpreact) #(N, n_hidden)\n",
    "    logits = h @ W2 + b2 # (N, vocab_size)\n",
    "    loss = F.cross_entropy(logits, y)\n",
    "    print(split, loss.item())\n",
    "\n",
    "split_loss('train')\n",
    "split_loss('dev')"
   ]
  },
  {
   "cell_type": "code",
   "execution_count": null,
   "id": "f9badd5d-463c-4ab1-9f25-c00e905f3476",
   "metadata": {},
   "outputs": [],
   "source": []
  },
  {
   "cell_type": "code",
   "execution_count": 162,
   "id": "43ad59fa-20f2-4e45-9d0a-eb8eaf9eb3fb",
   "metadata": {},
   "outputs": [
    {
     "name": "stdout",
     "output_type": "stream",
     "text": [
      "carmah.\n",
      "amillivi.\n",
      "kimri.\n",
      "reigh.\n",
      "halaysie.\n",
      "rahnel.\n",
      "deliah.\n",
      "jareei.\n",
      "nellara.\n",
      "chaily.\n",
      "kaleigh.\n",
      "ham.\n",
      "jord.\n",
      "quintis.\n",
      "lilea.\n",
      "jadiquinte.\n",
      "madiarinix.\n",
      "kael.\n",
      "druan.\n",
      "edde.\n"
     ]
    }
   ],
   "source": [
    "#sample from the model\n",
    "g = torch.Generator().manual_seed(2147483647 + 10)\n",
    "\n",
    "for _ in range(20):\n",
    "    out = []\n",
    "    context = [0] * block_size # initializing with . . .\n",
    "    while True:\n",
    "        #forward pass\n",
    "        emb = C[torch.tensor([context])] #(1, block_size, n_embed)\n",
    "        embcat = emb.view(1, -1)\n",
    "        hpreact = embcat @ W1 #+ b1 # b1 will get by hpreact - bnmean and will have no impact. bnbias is instead there to add bias\n",
    "        #batch normalisation\n",
    "        hpreact = bngain * (hpreact - bnmean)/ bnstd + bnbias\n",
    "        h = torch.tanh(hpreact)\n",
    "        logits = h @ W2 + b2\n",
    "        probs = torch.softmax(logits, dim=1)\n",
    "        #sample from the distribtion\n",
    "        ix = torch.multinomial(probs, num_samples = 1, generator=g).item()\n",
    "        #shifting the context window\n",
    "        context = context[1:] + [ix]\n",
    "        out.append(ix)\n",
    "        #if we encounted a special character\n",
    "        if ix == 0:\n",
    "            break\n",
    "\n",
    "    print(''.join(itos[i] for i in out)) #decode and print the generated word"
   ]
  },
  {
   "cell_type": "code",
   "execution_count": 78,
   "id": "59a6fd88-e086-4ad4-97cb-e9052731d5d7",
   "metadata": {},
   "outputs": [
    {
     "name": "stdout",
     "output_type": "stream",
     "text": [
      "tensor(0.0023) tensor(0.9922)\n",
      "tensor(0.0064) tensor(1.0012)\n"
     ]
    },
    {
     "data": {
      "image/png": "[encoded data removed]",
      "text/plain": [
       "<Figure size 1500x500 with 2 Axes>"
      ]
     },
     "metadata": {},
     "output_type": "display_data"
    }
   ],
   "source": [
    "x = torch.randn(1000, 10)\n",
    "w = torch.randn(10, 200) / 10 ** 0.5\n",
    "y = x @ w\n",
    "print(x.mean(), x.std())\n",
    "print(y.mean(), y.std())\n",
    "plt.figure(figsize=(15,5))\n",
    "plt.subplot(121)\n",
    "plt.hist(x.view(-1).tolist(), 50, density=True);\n",
    "plt.subplot(122)\n",
    "plt.hist(y.view(-1).tolist(), 50, density=True);"
   ]
  }
 ],
 "metadata": {
  "kernelspec": {
   "display_name": "Python 3 (ipykernel)",
   "language": "python",
   "name": "python3"
  },
  "language_info": {
   "codemirror_mode": {
    "name": "ipython",
    "version": 3
   },
   "file_extension": ".py",
   "mimetype": "text/x-python",
   "name": "python",
   "nbconvert_exporter": "python",
   "pygments_lexer": "ipython3",
   "version": "3.11.7"
  }
 },
 "nbformat": 4,
 "nbformat_minor": 5
}
