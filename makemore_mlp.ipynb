{
 "cells": [
  {
   "cell_type": "code",
   "execution_count": 1,
   "id": "9b99e0f4-83ae-479f-a31e-6668e67f2be3",
   "metadata": {},
   "outputs": [],
   "source": [
    "import torch\n",
    "import torch.nn.functional as F\n",
    "import matplotlib.pyplot as plt\n",
    "%matplotlib inline"
   ]
  },
  {
   "cell_type": "code",
   "execution_count": 16,
   "id": "7381d7ce-8613-4634-9363-5ddfdb299bba",
   "metadata": {},
   "outputs": [
    {
     "data": {
      "text/plain": [
       "['emma',\n",
       " 'olivia',\n",
       " 'ava',\n",
       " 'isabella',\n",
       " 'sophia',\n",
       " 'charlotte',\n",
       " 'mia',\n",
       " 'amelia',\n",
       " 'harper',\n",
       " 'evelyn']"
      ]
     },
     "execution_count": 16,
     "metadata": {},
     "output_type": "execute_result"
    }
   ],
   "source": [
    "# read all the names in the dataset\n",
    "words = open('names.txt',  'r').read().splitlines()\n",
    "words[:10]"
   ]
  },
  {
   "cell_type": "code",
   "execution_count": 3,
   "id": "e29832db-d117-43c9-8cdb-c55daa96a9bd",
   "metadata": {},
   "outputs": [
    {
     "data": {
      "text/plain": [
       "32033"
      ]
     },
     "execution_count": 3,
     "metadata": {},
     "output_type": "execute_result"
    }
   ],
   "source": [
    "len(words)"
   ]
  },
  {
   "cell_type": "code",
   "execution_count": 61,
   "id": "7aebbbc3-377c-4e77-9410-230b5f95e7f9",
   "metadata": {},
   "outputs": [],
   "source": [
    "#building the vocabulary of characters and mapping them to integers\n",
    "chars = sorted(list(set(''.join(words))))\n",
    "stoi = {s:i+1 for i,s in enumerate(chars)}\n",
    "stoi['.'] = 0\n",
    "itos = {i:s for s,i in stoi.items()}"
   ]
  },
  {
   "cell_type": "code",
   "execution_count": 66,
   "id": "5d29a1fe-f975-4e8e-9c6b-fed9d4dbc6a4",
   "metadata": {},
   "outputs": [
    {
     "name": "stdout",
     "output_type": "stream",
     "text": [
      "emma\n",
      "...  --->  e\n",
      "..e  --->  m\n",
      ".em  --->  m\n",
      "emm  --->  a\n",
      "mma  --->  .\n",
      "olivia\n",
      "...  --->  o\n",
      "..o  --->  l\n",
      ".ol  --->  i\n",
      "oli  --->  v\n",
      "liv  --->  i\n",
      "ivi  --->  a\n",
      "via  --->  .\n",
      "ava\n",
      "...  --->  a\n",
      "..a  --->  v\n",
      ".av  --->  a\n",
      "ava  --->  .\n",
      "isabella\n",
      "...  --->  i\n",
      "..i  --->  s\n",
      ".is  --->  a\n",
      "isa  --->  b\n",
      "sab  --->  e\n",
      "abe  --->  l\n",
      "bel  --->  l\n",
      "ell  --->  a\n",
      "lla  --->  .\n",
      "sophia\n",
      "...  --->  s\n",
      "..s  --->  o\n",
      ".so  --->  p\n",
      "sop  --->  h\n",
      "oph  --->  i\n",
      "phi  --->  a\n",
      "hia  --->  .\n"
     ]
    }
   ],
   "source": [
    "block_size = 3\n",
    "X =[]\n",
    "Y =[]\n",
    "\n",
    "for w in words[:5]:\n",
    "    print(w)\n",
    "    context = [0] * block_size\n",
    "    for ch in w + '.':\n",
    "        ix = stoi[ch]\n",
    "        X.append(context)\n",
    "        Y.append(ix)\n",
    "        print(''.join(itos[i] for i in context), ' ---> ', itos[ix])\n",
    "        context = context[1:] + [ix]\n",
    "\n",
    "X = torch.tensor(X)\n",
    "Y = torch.tensor(Y)"
   ]
  },
  {
   "cell_type": "code",
   "execution_count": 67,
   "id": "9c534191-c907-41cf-9422-78c7458caab1",
   "metadata": {},
   "outputs": [
    {
     "data": {
      "text/plain": [
       "(torch.Size([32, 3]), torch.int64, torch.Size([32]), torch.int64)"
      ]
     },
     "execution_count": 67,
     "metadata": {},
     "output_type": "execute_result"
    }
   ],
   "source": [
    "X.shape , X.dtype , Y.shape , Y.dtype"
   ]
  },
  {
   "cell_type": "code",
   "execution_count": null,
   "id": "1c60ad28-aa24-45e3-8e65-8f7ad7a445c3",
   "metadata": {},
   "outputs": [],
   "source": [
    "#embedding"
   ]
  },
  {
   "cell_type": "code",
   "execution_count": 70,
   "id": "172992c0-9bfa-4648-b2c9-45d1c7d42005",
   "metadata": {},
   "outputs": [],
   "source": [
    "C = torch.randn((27,2))"
   ]
  },
  {
   "cell_type": "code",
   "execution_count": 73,
   "id": "8ee24494-a78d-4455-960e-e0d74afd45ef",
   "metadata": {},
   "outputs": [
    {
     "data": {
      "text/plain": [
       "tensor([-2.0578, -0.8306])"
      ]
     },
     "execution_count": 73,
     "metadata": {},
     "output_type": "execute_result"
    }
   ],
   "source": [
    "C[5]"
   ]
  },
  {
   "cell_type": "code",
   "execution_count": 82,
   "id": "f489a6be-15d5-4471-b295-aa72b292e920",
   "metadata": {},
   "outputs": [
    {
     "data": {
      "text/plain": [
       "tensor([-2.0578, -0.8306])"
      ]
     },
     "execution_count": 82,
     "metadata": {},
     "output_type": "execute_result"
    }
   ],
   "source": [
    "F.one_hot(torch.tensor(5), num_classes=27).float() @ C"
   ]
  },
  {
   "cell_type": "code",
   "execution_count": 88,
   "id": "3a360c1c-bdb8-4631-b779-bf541a0113ff",
   "metadata": {},
   "outputs": [
    {
     "data": {
      "text/plain": [
       "tensor([-0.6684, -0.7970])"
      ]
     },
     "execution_count": 88,
     "metadata": {},
     "output_type": "execute_result"
    }
   ],
   "source": [
    "C[X][13,2]"
   ]
  },
  {
   "cell_type": "code",
   "execution_count": 89,
   "id": "a8dded06-ec53-4658-8ebf-a49aab30cdac",
   "metadata": {},
   "outputs": [
    {
     "data": {
      "text/plain": [
       "tensor(1)"
      ]
     },
     "execution_count": 89,
     "metadata": {},
     "output_type": "execute_result"
    }
   ],
   "source": [
    "X[13,2]"
   ]
  },
  {
   "cell_type": "code",
   "execution_count": 90,
   "id": "107259ea-2f3f-4ea1-b7f9-87c066c2a2d6",
   "metadata": {},
   "outputs": [
    {
     "data": {
      "text/plain": [
       "tensor([-0.6684, -0.7970])"
      ]
     },
     "execution_count": 90,
     "metadata": {},
     "output_type": "execute_result"
    }
   ],
   "source": [
    "C[1]"
   ]
  },
  {
   "cell_type": "code",
   "execution_count": 91,
   "id": "db72ac0c-1ea8-4b49-9346-fc704e7e490e",
   "metadata": {},
   "outputs": [
    {
     "data": {
      "text/plain": [
       "torch.Size([32, 3, 2])"
      ]
     },
     "execution_count": 91,
     "metadata": {},
     "output_type": "execute_result"
    }
   ],
   "source": [
    "#embedding \n",
    "emb = C[X]\n",
    "emb.shape"
   ]
  },
  {
   "cell_type": "code",
   "execution_count": 92,
   "id": "066ff608-6480-410b-a1e3-9bfff67bfcbc",
   "metadata": {},
   "outputs": [],
   "source": [
    "W1 = torch.randn((3*2, 100))\n",
    "b1 = torch.randn(100)"
   ]
  },
  {
   "cell_type": "code",
   "execution_count": null,
   "id": "888b5917-e6fb-4e5a-bac2-80b08c8609e9",
   "metadata": {},
   "outputs": [],
   "source": [
    "emb @ W1 + b1 "
   ]
  },
  {
   "cell_type": "code",
   "execution_count": null,
   "id": "4f948818-326d-4cea-af97-68a67bbf1a17",
   "metadata": {},
   "outputs": [],
   "source": [
    "torch.cat([emb[:, 0, :], emb[:, 1, :], emb[:, 2, :]], 1)"
   ]
  },
  {
   "cell_type": "code",
   "execution_count": null,
   "id": "ce74cd6c-58e0-4d4a-98dc-b84bf00660ce",
   "metadata": {},
   "outputs": [],
   "source": [
    "torch.cat(torch.unbind(emb, 1), 1) == torch.cat([emb[:, 0, :], emb[:, 1, :], emb[:, 2, :]], 1) # inefficient"
   ]
  },
  {
   "cell_type": "code",
   "execution_count": null,
   "id": "ec1d6378-00ed-42a5-b0d2-d8de4959efb0",
   "metadata": {},
   "outputs": [],
   "source": [
    "emb.view(32,6) == torch.cat(torch.unbind(emb, 1), 1)"
   ]
  },
  {
   "cell_type": "code",
   "execution_count": 117,
   "id": "1597fdae-c4f1-4da9-a1f0-dc158e6852dc",
   "metadata": {},
   "outputs": [],
   "source": [
    "h = emb.view(-1,6) @ W1 + b1 # -1 means pytorch will assign whatever left automatically to maintain the same total number of datapoints"
   ]
  },
  {
   "cell_type": "code",
   "execution_count": 123,
   "id": "1e12aea5-6ddb-4205-999b-c07445733db6",
   "metadata": {},
   "outputs": [
    {
     "data": {
      "text/plain": [
       "torch.Size([100])"
      ]
     },
     "execution_count": 123,
     "metadata": {},
     "output_type": "execute_result"
    }
   ],
   "source": [
    "(emb.view(-1,6) @ W1).shape\n",
    "b1.shape\n",
    "# 32, 100\n",
    "# 1 , 100 (we are adding corresponding bias to each neuron)"
   ]
  },
  {
   "cell_type": "code",
   "execution_count": 120,
   "id": "c588f0c8-f5a6-4a1b-ae01-9ea933da7385",
   "metadata": {},
   "outputs": [
    {
     "data": {
      "text/plain": [
       "torch.Size([32, 100])"
      ]
     },
     "execution_count": 120,
     "metadata": {},
     "output_type": "execute_result"
    }
   ],
   "source": [
    "h = torch.tanh(h)\n",
    "h.shape"
   ]
  },
  {
   "cell_type": "code",
   "execution_count": 125,
   "id": "36879a13-caab-49ef-bdba-5e34fc4408fc",
   "metadata": {},
   "outputs": [],
   "source": [
    "W2 = torch.randn(100, 27)\n",
    "b2 = torch.randn(27)"
   ]
  },
  {
   "cell_type": "code",
   "execution_count": 127,
   "id": "36672d2a-ac5b-4f40-bec7-3dd9bdd7f83c",
   "metadata": {},
   "outputs": [
    {
     "data": {
      "text/plain": [
       "torch.Size([32, 27])"
      ]
     },
     "execution_count": 127,
     "metadata": {},
     "output_type": "execute_result"
    }
   ],
   "source": [
    "logits = h @ W2 + b2\n",
    "logits.shape"
   ]
  },
  {
   "cell_type": "code",
   "execution_count": 133,
   "id": "3c6181d7-1a4b-4ae3-97aa-6032d5852b06",
   "metadata": {},
   "outputs": [
    {
     "data": {
      "text/plain": [
       "torch.Size([32, 27])"
      ]
     },
     "execution_count": 133,
     "metadata": {},
     "output_type": "execute_result"
    }
   ],
   "source": [
    "counts = logits.exp()\n",
    "counts.shape"
   ]
  },
  {
   "cell_type": "code",
   "execution_count": 137,
   "id": "6d0957d5-fbe0-44df-b165-72cd545175bb",
   "metadata": {},
   "outputs": [
    {
     "data": {
      "text/plain": [
       "tensor(1.0000)"
      ]
     },
     "execution_count": 137,
     "metadata": {},
     "output_type": "execute_result"
    }
   ],
   "source": [
    "prob = counts / counts.sum(1, keepdims = True) \n",
    "prob[0].sum()"
   ]
  },
  {
   "cell_type": "code",
   "execution_count": 143,
   "id": "319ea284-46f4-41fd-8224-2fdcccf39bf0",
   "metadata": {},
   "outputs": [
    {
     "data": {
      "text/plain": [
       "tensor([ 5, 13, 13,  1,  0, 15, 12,  9, 22,  9,  1,  0,  1, 22,  1,  0,  9, 19,\n",
       "         1,  2,  5, 12, 12,  1,  0, 19, 15, 16,  8,  9,  1,  0])"
      ]
     },
     "execution_count": 143,
     "metadata": {},
     "output_type": "execute_result"
    }
   ],
   "source": [
    "Y"
   ]
  },
  {
   "cell_type": "code",
   "execution_count": 139,
   "id": "f47d4521-7856-4cdc-958d-a3719da418bf",
   "metadata": {},
   "outputs": [
    {
     "data": {
      "text/plain": [
       "torch.Size([32, 27])"
      ]
     },
     "execution_count": 139,
     "metadata": {},
     "output_type": "execute_result"
    }
   ],
   "source": [
    "prob.shape"
   ]
  },
  {
   "cell_type": "code",
   "execution_count": 148,
   "id": "cecf49fa-2ab6-45d2-a9d6-7748ff07bcb1",
   "metadata": {},
   "outputs": [
    {
     "data": {
      "text/plain": [
       "tensor([5.6656e-07, 7.0162e-06, 2.7557e-06, 2.3767e-06, 1.3719e-05, 5.6325e-10,\n",
       "        5.4836e-09, 1.3615e-01, 1.0976e-01, 2.5562e-07, 2.1227e-09, 4.0415e-10,\n",
       "        7.2972e-09, 2.5171e-01, 5.6599e-07, 1.1452e-09, 1.3772e-03, 2.3341e-05,\n",
       "        1.4908e-07, 4.5862e-05, 1.7835e-08, 7.0130e-07, 3.1044e-05, 1.0732e-06,\n",
       "        1.8564e-05, 2.3982e-06, 7.1872e-07, 1.8735e-08, 5.3021e-07, 2.3845e-07,\n",
       "        6.6673e-06, 3.5529e-06])"
      ]
     },
     "execution_count": 148,
     "metadata": {},
     "output_type": "execute_result"
    }
   ],
   "source": [
    "prob[torch.arange(32), Y]"
   ]
  },
  {
   "cell_type": "code",
   "execution_count": 154,
   "id": "8391671e-be73-4cd2-b4c8-b33ddbae5495",
   "metadata": {},
   "outputs": [
    {
     "data": {
      "text/plain": [
       "tensor(13.3946)"
      ]
     },
     "execution_count": 154,
     "metadata": {},
     "output_type": "execute_result"
    }
   ],
   "source": [
    "loss = -prob[torch.arange(32), Y].log().mean()\n",
    "loss"
   ]
  },
  {
   "cell_type": "code",
   "execution_count": null,
   "id": "be63cce2-a32a-41e1-b255-49b8a718ac2d",
   "metadata": {},
   "outputs": [],
   "source": [
    "##### proper code for readability"
   ]
  },
  {
   "cell_type": "code",
   "execution_count": 433,
   "id": "90cfc92b-0085-4108-970a-109083022983",
   "metadata": {},
   "outputs": [
    {
     "data": {
      "text/plain": [
       "(torch.Size([228146, 3]), torch.Size([228146]))"
      ]
     },
     "execution_count": 433,
     "metadata": {},
     "output_type": "execute_result"
    }
   ],
   "source": [
    "#dataset prep\n",
    "block_size = 3\n",
    "X =[]\n",
    "Y =[]\n",
    "\n",
    "for w in words:\n",
    "    context = [0] * block_size\n",
    "    for ch in w + '.':\n",
    "        ix = stoi[ch]\n",
    "        X.append(context)\n",
    "        Y.append(ix)\n",
    "        context = context[1:] + [ix]\n",
    "\n",
    "X = torch.tensor(X)\n",
    "Y = torch.tensor(Y)\n",
    "X.shape, Y.shape"
   ]
  },
  {
   "cell_type": "code",
   "execution_count": 586,
   "id": "96066723-5dea-4a73-927c-2d57a13e1bdb",
   "metadata": {},
   "outputs": [],
   "source": [
    "#build datasets\n",
    "\n",
    "def build_dataset(words):\n",
    "    #dataset prep\n",
    "    block_size = 3\n",
    "    X, Y = [], []  \n",
    "    \n",
    "    for w in words:\n",
    "        context = [0] * block_size\n",
    "        for ch in w + '.':\n",
    "            ix = stoi[ch]\n",
    "            X.append(context)\n",
    "            Y.append(ix)\n",
    "            context = context[1:] + [ix]\n",
    "    \n",
    "    X = torch.tensor(X)\n",
    "    Y = torch.tensor(Y)\n",
    "    return X, Y\n",
    "\n",
    "import random\n",
    "random.seed(42)\n",
    "random.shuffle(words)\n",
    "n1 = int(0.8*len(words))\n",
    "n2 = int(0.9*len(words))\n",
    "\n",
    "Xtr, Ytr = build_dataset(words[:n1])\n",
    "Xdev, Ydev = build_dataset(words[n1:n2])\n",
    "Xte, Yte = build_dataset(words[n2:])"
   ]
  },
  {
   "cell_type": "code",
   "execution_count": 587,
   "id": "042ace2c-3a5a-47ea-96db-f9a66ca60397",
   "metadata": {},
   "outputs": [],
   "source": [
    "g = torch.Generator().manual_seed(2147483647) #for reproducibility\n",
    "\n",
    "#initialisation\n",
    "C = torch.randn((27, 10), generator=g)\n",
    "W1 = torch.randn((30, 200), generator=g)\n",
    "b1 = torch.randn(200, generator=g)\n",
    "W2 = torch.rand((200, 27), generator=g)\n",
    "b2 = torch.rand(27, generator=g)\n",
    "parameters = [C, W1, b1, W2, b2]"
   ]
  },
  {
   "cell_type": "code",
   "execution_count": 588,
   "id": "b65cbaf9-e3fc-4ff0-a10d-021f76f8a53f",
   "metadata": {},
   "outputs": [
    {
     "data": {
      "text/plain": [
       "11897"
      ]
     },
     "execution_count": 588,
     "metadata": {},
     "output_type": "execute_result"
    }
   ],
   "source": [
    "sum(p.nelement() for p in parameters)"
   ]
  },
  {
   "cell_type": "code",
   "execution_count": null,
   "id": "8b425b86-6779-4cd2-8c4d-52ed2f1317d2",
   "metadata": {},
   "outputs": [],
   "source": []
  },
  {
   "cell_type": "code",
   "execution_count": 589,
   "id": "4d07e796-9fd0-492b-b86e-664f7119edb4",
   "metadata": {},
   "outputs": [],
   "source": [
    "for p in parameters:\n",
    "    p.requires_grad = True"
   ]
  },
  {
   "cell_type": "code",
   "execution_count": 590,
   "id": "c3a13ab9-5d14-4b56-abf3-7162cb327e3f",
   "metadata": {},
   "outputs": [],
   "source": [
    "lre = torch.linspace(-3,0, 1000)\n",
    "lrs = 10**lre"
   ]
  },
  {
   "cell_type": "code",
   "execution_count": 591,
   "id": "332b500c-ab92-4c57-9ea6-b65b3942d986",
   "metadata": {},
   "outputs": [],
   "source": [
    "lri = []\n",
    "lossi = []\n",
    "stepi = []"
   ]
  },
  {
   "cell_type": "code",
   "execution_count": 592,
   "id": "ed8e6931-cc00-4e4d-afb1-1c25e62b8ff5",
   "metadata": {},
   "outputs": [
    {
     "name": "stdout",
     "output_type": "stream",
     "text": [
      "2.072232484817505\n"
     ]
    }
   ],
   "source": [
    "for i in range(200000):\n",
    "    #minibatch - samples that we want to train in this pass\n",
    "    ix = torch.randint(0, Xtr.shape[0], (64,))\n",
    "    \n",
    "    emb = C[Xtr[ix]] #32,3,3\n",
    "    #forward pass #layer 1\n",
    "    h = emb.view(-1, 30) @ W1 + b1 # taking care of broadcasting\n",
    "    h = torch.tanh(h) # 32, 100\n",
    "    #layer 2\n",
    "    logits = h @ W2 + b2 #32, 27\n",
    "    loss = F.cross_entropy(logits, Ytr[ix])\n",
    "    #backard pass\n",
    "    for p in parameters:\n",
    "        p.grad = None\n",
    "    loss.backward()\n",
    "\n",
    "    lr = 10**-0.75 if i < 100000 else 10**-1.75\n",
    "    #update\n",
    "    for p in parameters:\n",
    "        p.data += -lr * p.grad\n",
    "    #track\n",
    "    # lri.append(lre[i])\n",
    "    stepi.append(i)\n",
    "    lossi.append(loss.log10().item())\n",
    "\n",
    "print(loss.item())"
   ]
  },
  {
   "cell_type": "code",
   "execution_count": 593,
   "id": "84a21b76-9a52-450c-8db9-2b0f100ad844",
   "metadata": {},
   "outputs": [
    {
     "data": {
      "text/plain": [
       "[<matplotlib.lines.Line2D at 0x14f8768d0>]"
      ]
     },
     "execution_count": 593,
     "metadata": {},
     "output_type": "execute_result"
    },
    {
     "data": {
      "image/png": "[encoded data removed]",
      "text/plain": [
       "<Figure size 640x480 with 1 Axes>"
      ]
     },
     "metadata": {},
     "output_type": "display_data"
    }
   ],
   "source": [
    "plt.plot(stepi, lossi)"
   ]
  },
  {
   "cell_type": "code",
   "execution_count": 595,
   "id": "f5a81ed3-385a-4aa1-89c6-71f52b48ecea",
   "metadata": {},
   "outputs": [
    {
     "data": {
      "text/plain": [
       "2.1246132850646973"
      ]
     },
     "execution_count": 595,
     "metadata": {},
     "output_type": "execute_result"
    }
   ],
   "source": [
    "#dev batch loss\n",
    "emb = C[Xdev] \n",
    "\n",
    "h = emb.view(-1, 30) @ W1 + b1 \n",
    "h = torch.tanh(h) \n",
    "logits = h @ W2 + b2 \n",
    "loss = F.cross_entropy(logits, Ydev)\n",
    "loss.item()"
   ]
  },
  {
   "cell_type": "code",
   "execution_count": 594,
   "id": "239016de-8308-400d-b502-5d4837902381",
   "metadata": {},
   "outputs": [
    {
     "data": {
      "text/plain": [
       "2.046447515487671"
      ]
     },
     "execution_count": 594,
     "metadata": {},
     "output_type": "execute_result"
    }
   ],
   "source": [
    "#train batch loss\n",
    "emb = C[Xtr] \n",
    "\n",
    "h = emb.view(-1, 30) @ W1 + b1 \n",
    "h = torch.tanh(h) \n",
    "logits = h @ W2 + b2 \n",
    "loss = F.cross_entropy(logits, Ytr)\n",
    "loss.item()"
   ]
  },
  {
   "cell_type": "code",
   "execution_count": 596,
   "id": "eb65a89b-13a3-4057-a900-17174e5f107b",
   "metadata": {},
   "outputs": [
    {
     "data": {
      "image/png": "[encoded data removed]",
      "text/plain": [
       "<Figure size 800x800 with 1 Axes>"
      ]
     },
     "metadata": {},
     "output_type": "display_data"
    }
   ],
   "source": [
    "plt.figure(figsize = (8,8))\n",
    "plt.scatter(C[:,0].data, C[:,1].data, s=200)\n",
    "for i in range(C.shape[0]):\n",
    "    plt.text(C[i,0].item(), C[i, 1].item(), itos[i], ha=\"center\", va=\"center\", color='white')\n",
    "plt.grid('minor')"
   ]
  },
  {
   "cell_type": "code",
   "execution_count": 610,
   "id": "f81e89ad-523f-4d16-9493-460481f81469",
   "metadata": {},
   "outputs": [
    {
     "name": "stdout",
     "output_type": "stream",
     "text": [
      "dex.\n",
      "mariah.\n",
      "makilah.\n",
      "tyha.\n",
      "malima.\n",
      "taine.\n",
      "kayk.\n",
      "katar.\n",
      "samiyah.\n",
      "javari.\n",
      "mari.\n",
      "moriel.\n",
      "kausif.\n",
      "tedoren.\n",
      "emmalsi.\n",
      "suhakaviyah.\n",
      "fobl.\n",
      "malynn.\n",
      "bron.\n",
      "las.\n"
     ]
    }
   ],
   "source": [
    "g = torch.Generator().manual_seed(2147483647)\n",
    "\n",
    "for _ in range(20):\n",
    "    out = []\n",
    "    context = [0] * block_size\n",
    "    while True:\n",
    "        embd = C[torch.tensor([context])] #1,block_size, d (depth of embeddings)\n",
    "        h = torch.tanh(embd.view(1,-1) @ W1 + b1)\n",
    "        logits = h @ W2 + b2\n",
    "        probs = F.softmax(logits, dim=1)\n",
    "        ix = torch.multinomial(probs, num_samples=1, generator=g).item()\n",
    "        context = context[1:] + [ix]\n",
    "        out.append(ix)\n",
    "        if ix == 0:\n",
    "            break\n",
    "\n",
    "    print(''.join(itos[i] for i in out))\n"
   ]
  },
  {
   "cell_type": "code",
   "execution_count": null,
   "id": "07907ffe-d9f5-46e7-8c29-41db0ebcf522",
   "metadata": {},
   "outputs": [],
   "source": []
  },
  {
   "cell_type": "code",
   "execution_count": null,
   "id": "37911095-3a84-49a5-af91-b25442c45472",
   "metadata": {},
   "outputs": [],
   "source": []
  }
 ],
 "metadata": {
  "kernelspec": {
   "display_name": "Python 3 (ipykernel)",
   "language": "python",
   "name": "python3"
  },
  "language_info": {
   "codemirror_mode": {
    "name": "ipython",
    "version": 3
   },
   "file_extension": ".py",
   "mimetype": "text/x-python",
   "name": "python",
   "nbconvert_exporter": "python",
   "pygments_lexer": "ipython3",
   "version": "3.11.7"
  }
 },
 "nbformat": 4,
 "nbformat_minor": 5
}
